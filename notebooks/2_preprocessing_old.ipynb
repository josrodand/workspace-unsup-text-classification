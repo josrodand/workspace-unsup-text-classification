{
 "cells": [
  {
   "cell_type": "code",
   "execution_count": 109,
   "metadata": {},
   "outputs": [],
   "source": [
    "import numpy as np \n",
    "import pandas as pd \n",
    "\n",
    "import nltk\n",
    "# nltk.download('punkt')\n",
    "from nltk.corpus import stopwords\n",
    "import re\n",
    "from collections import Counter\n",
    "\n",
    "from tqdm import tqdm\n",
    "import pickle\n",
    "\n",
    "import matplotlib.pyplot as plt\n",
    "import seaborn as sns\n",
    "import plotly.express as px\n"
   ]
  },
  {
   "cell_type": "markdown",
   "metadata": {},
   "source": [
    "# Load Data"
   ]
  },
  {
   "cell_type": "code",
   "execution_count": 19,
   "metadata": {},
   "outputs": [
    {
     "data": {
      "text/html": [
       "<div>\n",
       "<style scoped>\n",
       "    .dataframe tbody tr th:only-of-type {\n",
       "        vertical-align: middle;\n",
       "    }\n",
       "\n",
       "    .dataframe tbody tr th {\n",
       "        vertical-align: top;\n",
       "    }\n",
       "\n",
       "    .dataframe thead th {\n",
       "        text-align: right;\n",
       "    }\n",
       "</style>\n",
       "<table border=\"1\" class=\"dataframe\">\n",
       "  <thead>\n",
       "    <tr style=\"text-align: right;\">\n",
       "      <th></th>\n",
       "      <th>title</th>\n",
       "      <th>content</th>\n",
       "    </tr>\n",
       "  </thead>\n",
       "  <tbody>\n",
       "    <tr>\n",
       "      <th>0</th>\n",
       "      <td>Singer, activist Joan Baez becomes Kennedy Cen...</td>\n",
       "      <td>Kennedy Center Honoree Joan Baez reflects on 6...</td>\n",
       "    </tr>\n",
       "    <tr>\n",
       "      <th>1</th>\n",
       "      <td>'Nothing but problems': Shipwreck tear-down en...</td>\n",
       "      <td>Demolition of a large cargo ship along the coa...</td>\n",
       "    </tr>\n",
       "    <tr>\n",
       "      <th>2</th>\n",
       "      <td>Report: At least 13 dead in Istanbul bombings</td>\n",
       "      <td>Report : At least 13 dead in Istanbul bombings...</td>\n",
       "    </tr>\n",
       "    <tr>\n",
       "      <th>3</th>\n",
       "      <td>Senate Republicans Pressure Joe Biden to Withd...</td>\n",
       "      <td>Several congressional Republicans are expressi...</td>\n",
       "    </tr>\n",
       "    <tr>\n",
       "      <th>4</th>\n",
       "      <td>The Unwelcome Return of the Real Purveyors of ...</td>\n",
       "      <td>With the mainstream media still obsessing abou...</td>\n",
       "    </tr>\n",
       "  </tbody>\n",
       "</table>\n",
       "</div>"
      ],
      "text/plain": [
       "                                               title  \\\n",
       "0  Singer, activist Joan Baez becomes Kennedy Cen...   \n",
       "1  'Nothing but problems': Shipwreck tear-down en...   \n",
       "2      Report: At least 13 dead in Istanbul bombings   \n",
       "3  Senate Republicans Pressure Joe Biden to Withd...   \n",
       "4  The Unwelcome Return of the Real Purveyors of ...   \n",
       "\n",
       "                                             content  \n",
       "0  Kennedy Center Honoree Joan Baez reflects on 6...  \n",
       "1  Demolition of a large cargo ship along the coa...  \n",
       "2  Report : At least 13 dead in Istanbul bombings...  \n",
       "3  Several congressional Republicans are expressi...  \n",
       "4  With the mainstream media still obsessing abou...  "
      ]
     },
     "execution_count": 19,
     "metadata": {},
     "output_type": "execute_result"
    }
   ],
   "source": [
    "PATH_TRAIN_DATA = '../data/train.tsv'\n",
    "# PATH_TEST_DATA = '../data/test.tsv'\n",
    "\n",
    "train_data = pd.read_csv(PATH_TRAIN_DATA, sep = '\\t', encoding='utf-8')\n",
    "train_data.head()"
   ]
  },
  {
   "cell_type": "code",
   "execution_count": 6,
   "metadata": {},
   "outputs": [
    {
     "name": "stdout",
     "output_type": "stream",
     "text": [
      "<class 'pandas.core.frame.DataFrame'>\n",
      "RangeIndex: 89928 entries, 0 to 89927\n",
      "Data columns (total 2 columns):\n",
      " #   Column   Non-Null Count  Dtype \n",
      "---  ------   --------------  ----- \n",
      " 0   title    89923 non-null  object\n",
      " 1   content  89800 non-null  object\n",
      "dtypes: object(2)\n",
      "memory usage: 1.4+ MB\n"
     ]
    }
   ],
   "source": [
    "train_data.info()"
   ]
  },
  {
   "cell_type": "code",
   "execution_count": 7,
   "metadata": {},
   "outputs": [
    {
     "data": {
      "text/plain": [
       "title        5\n",
       "content    128\n",
       "dtype: int64"
      ]
     },
     "execution_count": 7,
     "metadata": {},
     "output_type": "execute_result"
    }
   ],
   "source": [
    "train_data.isna().sum()"
   ]
  },
  {
   "cell_type": "code",
   "execution_count": 20,
   "metadata": {},
   "outputs": [
    {
     "name": "stdout",
     "output_type": "stream",
     "text": [
      "(89795, 2)\n"
     ]
    },
    {
     "data": {
      "text/html": [
       "<div>\n",
       "<style scoped>\n",
       "    .dataframe tbody tr th:only-of-type {\n",
       "        vertical-align: middle;\n",
       "    }\n",
       "\n",
       "    .dataframe tbody tr th {\n",
       "        vertical-align: top;\n",
       "    }\n",
       "\n",
       "    .dataframe thead th {\n",
       "        text-align: right;\n",
       "    }\n",
       "</style>\n",
       "<table border=\"1\" class=\"dataframe\">\n",
       "  <thead>\n",
       "    <tr style=\"text-align: right;\">\n",
       "      <th></th>\n",
       "      <th>title</th>\n",
       "      <th>content</th>\n",
       "    </tr>\n",
       "  </thead>\n",
       "  <tbody>\n",
       "    <tr>\n",
       "      <th>0</th>\n",
       "      <td>Singer, activist Joan Baez becomes Kennedy Cen...</td>\n",
       "      <td>Kennedy Center Honoree Joan Baez reflects on 6...</td>\n",
       "    </tr>\n",
       "    <tr>\n",
       "      <th>1</th>\n",
       "      <td>'Nothing but problems': Shipwreck tear-down en...</td>\n",
       "      <td>Demolition of a large cargo ship along the coa...</td>\n",
       "    </tr>\n",
       "    <tr>\n",
       "      <th>2</th>\n",
       "      <td>Report: At least 13 dead in Istanbul bombings</td>\n",
       "      <td>Report : At least 13 dead in Istanbul bombings...</td>\n",
       "    </tr>\n",
       "    <tr>\n",
       "      <th>3</th>\n",
       "      <td>Senate Republicans Pressure Joe Biden to Withd...</td>\n",
       "      <td>Several congressional Republicans are expressi...</td>\n",
       "    </tr>\n",
       "    <tr>\n",
       "      <th>4</th>\n",
       "      <td>The Unwelcome Return of the Real Purveyors of ...</td>\n",
       "      <td>With the mainstream media still obsessing abou...</td>\n",
       "    </tr>\n",
       "  </tbody>\n",
       "</table>\n",
       "</div>"
      ],
      "text/plain": [
       "                                               title  \\\n",
       "0  Singer, activist Joan Baez becomes Kennedy Cen...   \n",
       "1  'Nothing but problems': Shipwreck tear-down en...   \n",
       "2      Report: At least 13 dead in Istanbul bombings   \n",
       "3  Senate Republicans Pressure Joe Biden to Withd...   \n",
       "4  The Unwelcome Return of the Real Purveyors of ...   \n",
       "\n",
       "                                             content  \n",
       "0  Kennedy Center Honoree Joan Baez reflects on 6...  \n",
       "1  Demolition of a large cargo ship along the coa...  \n",
       "2  Report : At least 13 dead in Istanbul bombings...  \n",
       "3  Several congressional Republicans are expressi...  \n",
       "4  With the mainstream media still obsessing abou...  "
      ]
     },
     "execution_count": 20,
     "metadata": {},
     "output_type": "execute_result"
    }
   ],
   "source": [
    "# drop nulls\n",
    "train_data = train_data.dropna().reset_index(drop=True)\n",
    "print(train_data.shape)\n",
    "train_data.head()"
   ]
  },
  {
   "cell_type": "markdown",
   "metadata": {},
   "source": [
    "# sampling\n"
   ]
  },
  {
   "cell_type": "code",
   "execution_count": 21,
   "metadata": {},
   "outputs": [
    {
     "data": {
      "text/html": [
       "<div>\n",
       "<style scoped>\n",
       "    .dataframe tbody tr th:only-of-type {\n",
       "        vertical-align: middle;\n",
       "    }\n",
       "\n",
       "    .dataframe tbody tr th {\n",
       "        vertical-align: top;\n",
       "    }\n",
       "\n",
       "    .dataframe thead th {\n",
       "        text-align: right;\n",
       "    }\n",
       "</style>\n",
       "<table border=\"1\" class=\"dataframe\">\n",
       "  <thead>\n",
       "    <tr style=\"text-align: right;\">\n",
       "      <th></th>\n",
       "      <th>title</th>\n",
       "      <th>content</th>\n",
       "    </tr>\n",
       "  </thead>\n",
       "  <tbody>\n",
       "    <tr>\n",
       "      <th>0</th>\n",
       "      <td>Violence escalates in Mexico  Protests</td>\n",
       "      <td>There 's more violence in the ongoing protests...</td>\n",
       "    </tr>\n",
       "    <tr>\n",
       "      <th>1</th>\n",
       "      <td>Olympics: Italy and Jamaica take sprint relay ...</td>\n",
       "      <td>The Olympics have always been a chance for nat...</td>\n",
       "    </tr>\n",
       "    <tr>\n",
       "      <th>2</th>\n",
       "      <td>Facebook Blacklists 78,000+ Users for Violatin...</td>\n",
       "      <td>Facebook has reportedly blacklisted more than ...</td>\n",
       "    </tr>\n",
       "    <tr>\n",
       "      <th>3</th>\n",
       "      <td>Exclusive: Blackburn Demands Answers on Biden'...</td>\n",
       "      <td>Sen. Marsha Blackburn ( R-TN ) and Rep. Chuck ...</td>\n",
       "    </tr>\n",
       "    <tr>\n",
       "      <th>4</th>\n",
       "      <td>14-year-old boy shot in West Pullman home</td>\n",
       "      <td>A 14-year-old boy was shot in his home early T...</td>\n",
       "    </tr>\n",
       "    <tr>\n",
       "      <th>...</th>\n",
       "      <td>...</td>\n",
       "      <td>...</td>\n",
       "    </tr>\n",
       "    <tr>\n",
       "      <th>8975</th>\n",
       "      <td>Poll: 56 Percent of GOP Voters Oppose Earmarks</td>\n",
       "      <td>According to Morning Consult/Politico poll , m...</td>\n",
       "    </tr>\n",
       "    <tr>\n",
       "      <th>8976</th>\n",
       "      <td>Chicago Fire Department needs stronger policie...</td>\n",
       "      <td>“ Women are treated like garbage .\\nPeriod , ”...</td>\n",
       "    </tr>\n",
       "    <tr>\n",
       "      <th>8977</th>\n",
       "      <td>South Africa’s unrest and the ANC’s many failings</td>\n",
       "      <td>The ANC has failed to dismantle the oppressive...</td>\n",
       "    </tr>\n",
       "    <tr>\n",
       "      <th>8978</th>\n",
       "      <td>'I didn't like it at all' - Rangnick unhappy d...</td>\n",
       "      <td>Last updated on .From the section Premier Leag...</td>\n",
       "    </tr>\n",
       "    <tr>\n",
       "      <th>8979</th>\n",
       "      <td>British strain of Covid-19 may be more deadly,...</td>\n",
       "      <td>There is some evidence the new variant of Covi...</td>\n",
       "    </tr>\n",
       "  </tbody>\n",
       "</table>\n",
       "<p>8980 rows × 2 columns</p>\n",
       "</div>"
      ],
      "text/plain": [
       "                                                  title  \\\n",
       "0                Violence escalates in Mexico  Protests   \n",
       "1     Olympics: Italy and Jamaica take sprint relay ...   \n",
       "2     Facebook Blacklists 78,000+ Users for Violatin...   \n",
       "3     Exclusive: Blackburn Demands Answers on Biden'...   \n",
       "4             14-year-old boy shot in West Pullman home   \n",
       "...                                                 ...   \n",
       "8975     Poll: 56 Percent of GOP Voters Oppose Earmarks   \n",
       "8976  Chicago Fire Department needs stronger policie...   \n",
       "8977  South Africa’s unrest and the ANC’s many failings   \n",
       "8978  'I didn't like it at all' - Rangnick unhappy d...   \n",
       "8979  British strain of Covid-19 may be more deadly,...   \n",
       "\n",
       "                                                content  \n",
       "0     There 's more violence in the ongoing protests...  \n",
       "1     The Olympics have always been a chance for nat...  \n",
       "2     Facebook has reportedly blacklisted more than ...  \n",
       "3     Sen. Marsha Blackburn ( R-TN ) and Rep. Chuck ...  \n",
       "4     A 14-year-old boy was shot in his home early T...  \n",
       "...                                                 ...  \n",
       "8975  According to Morning Consult/Politico poll , m...  \n",
       "8976  “ Women are treated like garbage .\\nPeriod , ”...  \n",
       "8977  The ANC has failed to dismantle the oppressive...  \n",
       "8978  Last updated on .From the section Premier Leag...  \n",
       "8979  There is some evidence the new variant of Covi...  \n",
       "\n",
       "[8980 rows x 2 columns]"
      ]
     },
     "execution_count": 21,
     "metadata": {},
     "output_type": "execute_result"
    }
   ],
   "source": [
    "sample_data = train_data.sample(frac = 0.1, random_state=42).reset_index(drop=True)\n",
    "sample_data"
   ]
  },
  {
   "cell_type": "code",
   "execution_count": 29,
   "metadata": {},
   "outputs": [],
   "source": [
    "# guardamos\n",
    "path_to_save = '../data/sample/sample_data.csv'\n",
    "sample_data.to_csv(path_to_save, sep = '\\t', index=False)"
   ]
  },
  {
   "cell_type": "code",
   "execution_count": 31,
   "metadata": {},
   "outputs": [],
   "source": [
    "# sample_data = pd.read_csv(path_to_save, sep = '\\t')\n",
    "# sample_data"
   ]
  },
  {
   "cell_type": "code",
   "execution_count": 33,
   "metadata": {},
   "outputs": [
    {
     "name": "stdout",
     "output_type": "stream",
     "text": [
      "Violence escalates in Mexico  Protests\n",
      "\n",
      "There 's more violence in the ongoing protests over the disappearance and apparent murder of 43 college students in Mexico @ @ @ @ @ public safety in the Mexican state of Guerrero was temporarily detained by protesters .\n",
      "CBS @ @ @ @ @ CBSN by phone from where the kidnapping happened -- with the latest .\n"
     ]
    }
   ],
   "source": [
    "i = 0\n",
    "print(sample_data.iloc[i]['title'])\n",
    "print(\"\")\n",
    "print(sample_data.iloc[i]['content'])"
   ]
  },
  {
   "cell_type": "markdown",
   "metadata": {},
   "source": [
    "# Tecnicas clasicas\n",
    "\n",
    "preprocesado de tecnicas clasicas"
   ]
  },
  {
   "cell_type": "code",
   "execution_count": 32,
   "metadata": {},
   "outputs": [
    {
     "data": {
      "text/html": [
       "<div>\n",
       "<style scoped>\n",
       "    .dataframe tbody tr th:only-of-type {\n",
       "        vertical-align: middle;\n",
       "    }\n",
       "\n",
       "    .dataframe tbody tr th {\n",
       "        vertical-align: top;\n",
       "    }\n",
       "\n",
       "    .dataframe thead th {\n",
       "        text-align: right;\n",
       "    }\n",
       "</style>\n",
       "<table border=\"1\" class=\"dataframe\">\n",
       "  <thead>\n",
       "    <tr style=\"text-align: right;\">\n",
       "      <th></th>\n",
       "      <th>title</th>\n",
       "      <th>content</th>\n",
       "    </tr>\n",
       "  </thead>\n",
       "  <tbody>\n",
       "    <tr>\n",
       "      <th>0</th>\n",
       "      <td>Violence escalates in Mexico  Protests</td>\n",
       "      <td>There 's more violence in the ongoing protests...</td>\n",
       "    </tr>\n",
       "    <tr>\n",
       "      <th>1</th>\n",
       "      <td>Olympics: Italy and Jamaica take sprint relay ...</td>\n",
       "      <td>The Olympics have always been a chance for nat...</td>\n",
       "    </tr>\n",
       "    <tr>\n",
       "      <th>2</th>\n",
       "      <td>Facebook Blacklists 78,000+ Users for Violatin...</td>\n",
       "      <td>Facebook has reportedly blacklisted more than ...</td>\n",
       "    </tr>\n",
       "    <tr>\n",
       "      <th>3</th>\n",
       "      <td>Exclusive: Blackburn Demands Answers on Biden'...</td>\n",
       "      <td>Sen. Marsha Blackburn ( R-TN ) and Rep. Chuck ...</td>\n",
       "    </tr>\n",
       "    <tr>\n",
       "      <th>4</th>\n",
       "      <td>14-year-old boy shot in West Pullman home</td>\n",
       "      <td>A 14-year-old boy was shot in his home early T...</td>\n",
       "    </tr>\n",
       "    <tr>\n",
       "      <th>...</th>\n",
       "      <td>...</td>\n",
       "      <td>...</td>\n",
       "    </tr>\n",
       "    <tr>\n",
       "      <th>8975</th>\n",
       "      <td>Poll: 56 Percent of GOP Voters Oppose Earmarks</td>\n",
       "      <td>According to Morning Consult/Politico poll , m...</td>\n",
       "    </tr>\n",
       "    <tr>\n",
       "      <th>8976</th>\n",
       "      <td>Chicago Fire Department needs stronger policie...</td>\n",
       "      <td>“ Women are treated like garbage .\\nPeriod , ”...</td>\n",
       "    </tr>\n",
       "    <tr>\n",
       "      <th>8977</th>\n",
       "      <td>South Africa’s unrest and the ANC’s many failings</td>\n",
       "      <td>The ANC has failed to dismantle the oppressive...</td>\n",
       "    </tr>\n",
       "    <tr>\n",
       "      <th>8978</th>\n",
       "      <td>'I didn't like it at all' - Rangnick unhappy d...</td>\n",
       "      <td>Last updated on .From the section Premier Leag...</td>\n",
       "    </tr>\n",
       "    <tr>\n",
       "      <th>8979</th>\n",
       "      <td>British strain of Covid-19 may be more deadly,...</td>\n",
       "      <td>There is some evidence the new variant of Covi...</td>\n",
       "    </tr>\n",
       "  </tbody>\n",
       "</table>\n",
       "<p>8980 rows × 2 columns</p>\n",
       "</div>"
      ],
      "text/plain": [
       "                                                  title  \\\n",
       "0                Violence escalates in Mexico  Protests   \n",
       "1     Olympics: Italy and Jamaica take sprint relay ...   \n",
       "2     Facebook Blacklists 78,000+ Users for Violatin...   \n",
       "3     Exclusive: Blackburn Demands Answers on Biden'...   \n",
       "4             14-year-old boy shot in West Pullman home   \n",
       "...                                                 ...   \n",
       "8975     Poll: 56 Percent of GOP Voters Oppose Earmarks   \n",
       "8976  Chicago Fire Department needs stronger policie...   \n",
       "8977  South Africa’s unrest and the ANC’s many failings   \n",
       "8978  'I didn't like it at all' - Rangnick unhappy d...   \n",
       "8979  British strain of Covid-19 may be more deadly,...   \n",
       "\n",
       "                                                content  \n",
       "0     There 's more violence in the ongoing protests...  \n",
       "1     The Olympics have always been a chance for nat...  \n",
       "2     Facebook has reportedly blacklisted more than ...  \n",
       "3     Sen. Marsha Blackburn ( R-TN ) and Rep. Chuck ...  \n",
       "4     A 14-year-old boy was shot in his home early T...  \n",
       "...                                                 ...  \n",
       "8975  According to Morning Consult/Politico poll , m...  \n",
       "8976  “ Women are treated like garbage .\\nPeriod , ”...  \n",
       "8977  The ANC has failed to dismantle the oppressive...  \n",
       "8978  Last updated on .From the section Premier Leag...  \n",
       "8979  There is some evidence the new variant of Covi...  \n",
       "\n",
       "[8980 rows x 2 columns]"
      ]
     },
     "execution_count": 32,
     "metadata": {},
     "output_type": "execute_result"
    }
   ],
   "source": [
    "sample_path = '../data/sample/sample_data.csv'\n",
    "sample_data = pd.read_csv(path_to_save, sep = '\\t')\n",
    "sample_data"
   ]
  },
  {
   "cell_type": "code",
   "execution_count": 45,
   "metadata": {},
   "outputs": [
    {
     "data": {
      "text/html": [
       "<div>\n",
       "<style scoped>\n",
       "    .dataframe tbody tr th:only-of-type {\n",
       "        vertical-align: middle;\n",
       "    }\n",
       "\n",
       "    .dataframe tbody tr th {\n",
       "        vertical-align: top;\n",
       "    }\n",
       "\n",
       "    .dataframe thead th {\n",
       "        text-align: right;\n",
       "    }\n",
       "</style>\n",
       "<table border=\"1\" class=\"dataframe\">\n",
       "  <thead>\n",
       "    <tr style=\"text-align: right;\">\n",
       "      <th></th>\n",
       "      <th>title</th>\n",
       "      <th>content</th>\n",
       "      <th>text_joined</th>\n",
       "    </tr>\n",
       "  </thead>\n",
       "  <tbody>\n",
       "    <tr>\n",
       "      <th>0</th>\n",
       "      <td>Violence escalates in Mexico  Protests</td>\n",
       "      <td>There 's more violence in the ongoing protests...</td>\n",
       "      <td>Violence escalates in Mexico  Protests\\n There...</td>\n",
       "    </tr>\n",
       "    <tr>\n",
       "      <th>1</th>\n",
       "      <td>Olympics: Italy and Jamaica take sprint relay ...</td>\n",
       "      <td>The Olympics have always been a chance for nat...</td>\n",
       "      <td>Olympics: Italy and Jamaica take sprint relay ...</td>\n",
       "    </tr>\n",
       "    <tr>\n",
       "      <th>2</th>\n",
       "      <td>Facebook Blacklists 78,000+ Users for Violatin...</td>\n",
       "      <td>Facebook has reportedly blacklisted more than ...</td>\n",
       "      <td>Facebook Blacklists 78,000+ Users for Violatin...</td>\n",
       "    </tr>\n",
       "    <tr>\n",
       "      <th>3</th>\n",
       "      <td>Exclusive: Blackburn Demands Answers on Biden'...</td>\n",
       "      <td>Sen. Marsha Blackburn ( R-TN ) and Rep. Chuck ...</td>\n",
       "      <td>Exclusive: Blackburn Demands Answers on Biden'...</td>\n",
       "    </tr>\n",
       "    <tr>\n",
       "      <th>4</th>\n",
       "      <td>14-year-old boy shot in West Pullman home</td>\n",
       "      <td>A 14-year-old boy was shot in his home early T...</td>\n",
       "      <td>14-year-old boy shot in West Pullman home\\n A ...</td>\n",
       "    </tr>\n",
       "    <tr>\n",
       "      <th>...</th>\n",
       "      <td>...</td>\n",
       "      <td>...</td>\n",
       "      <td>...</td>\n",
       "    </tr>\n",
       "    <tr>\n",
       "      <th>8975</th>\n",
       "      <td>Poll: 56 Percent of GOP Voters Oppose Earmarks</td>\n",
       "      <td>According to Morning Consult/Politico poll , m...</td>\n",
       "      <td>Poll: 56 Percent of GOP Voters Oppose Earmarks...</td>\n",
       "    </tr>\n",
       "    <tr>\n",
       "      <th>8976</th>\n",
       "      <td>Chicago Fire Department needs stronger policie...</td>\n",
       "      <td>“ Women are treated like garbage .\\nPeriod , ”...</td>\n",
       "      <td>Chicago Fire Department needs stronger policie...</td>\n",
       "    </tr>\n",
       "    <tr>\n",
       "      <th>8977</th>\n",
       "      <td>South Africa’s unrest and the ANC’s many failings</td>\n",
       "      <td>The ANC has failed to dismantle the oppressive...</td>\n",
       "      <td>South Africa’s unrest and the ANC’s many faili...</td>\n",
       "    </tr>\n",
       "    <tr>\n",
       "      <th>8978</th>\n",
       "      <td>'I didn't like it at all' - Rangnick unhappy d...</td>\n",
       "      <td>Last updated on .From the section Premier Leag...</td>\n",
       "      <td>'I didn't like it at all' - Rangnick unhappy d...</td>\n",
       "    </tr>\n",
       "    <tr>\n",
       "      <th>8979</th>\n",
       "      <td>British strain of Covid-19 may be more deadly,...</td>\n",
       "      <td>There is some evidence the new variant of Covi...</td>\n",
       "      <td>British strain of Covid-19 may be more deadly,...</td>\n",
       "    </tr>\n",
       "  </tbody>\n",
       "</table>\n",
       "<p>8980 rows × 3 columns</p>\n",
       "</div>"
      ],
      "text/plain": [
       "                                                  title  \\\n",
       "0                Violence escalates in Mexico  Protests   \n",
       "1     Olympics: Italy and Jamaica take sprint relay ...   \n",
       "2     Facebook Blacklists 78,000+ Users for Violatin...   \n",
       "3     Exclusive: Blackburn Demands Answers on Biden'...   \n",
       "4             14-year-old boy shot in West Pullman home   \n",
       "...                                                 ...   \n",
       "8975     Poll: 56 Percent of GOP Voters Oppose Earmarks   \n",
       "8976  Chicago Fire Department needs stronger policie...   \n",
       "8977  South Africa’s unrest and the ANC’s many failings   \n",
       "8978  'I didn't like it at all' - Rangnick unhappy d...   \n",
       "8979  British strain of Covid-19 may be more deadly,...   \n",
       "\n",
       "                                                content  \\\n",
       "0     There 's more violence in the ongoing protests...   \n",
       "1     The Olympics have always been a chance for nat...   \n",
       "2     Facebook has reportedly blacklisted more than ...   \n",
       "3     Sen. Marsha Blackburn ( R-TN ) and Rep. Chuck ...   \n",
       "4     A 14-year-old boy was shot in his home early T...   \n",
       "...                                                 ...   \n",
       "8975  According to Morning Consult/Politico poll , m...   \n",
       "8976  “ Women are treated like garbage .\\nPeriod , ”...   \n",
       "8977  The ANC has failed to dismantle the oppressive...   \n",
       "8978  Last updated on .From the section Premier Leag...   \n",
       "8979  There is some evidence the new variant of Covi...   \n",
       "\n",
       "                                            text_joined  \n",
       "0     Violence escalates in Mexico  Protests\\n There...  \n",
       "1     Olympics: Italy and Jamaica take sprint relay ...  \n",
       "2     Facebook Blacklists 78,000+ Users for Violatin...  \n",
       "3     Exclusive: Blackburn Demands Answers on Biden'...  \n",
       "4     14-year-old boy shot in West Pullman home\\n A ...  \n",
       "...                                                 ...  \n",
       "8975  Poll: 56 Percent of GOP Voters Oppose Earmarks...  \n",
       "8976  Chicago Fire Department needs stronger policie...  \n",
       "8977  South Africa’s unrest and the ANC’s many faili...  \n",
       "8978  'I didn't like it at all' - Rangnick unhappy d...  \n",
       "8979  British strain of Covid-19 may be more deadly,...  \n",
       "\n",
       "[8980 rows x 3 columns]"
      ]
     },
     "execution_count": 45,
     "metadata": {},
     "output_type": "execute_result"
    }
   ],
   "source": [
    "sample_data['text_joined'] = sample_data.apply(lambda x: f\"{x['title']}\\n {x['content']}\", axis=1)\n",
    "sample_data"
   ]
  },
  {
   "cell_type": "code",
   "execution_count": 47,
   "metadata": {},
   "outputs": [],
   "source": [
    "# limpieza\n",
    "\n",
    "def preprocess_text(text: str) -> str:\n",
    "\n",
    "    # remove special chars and numbers\n",
    "    text = re.sub(\"[^A-Za-z]+\", \" \", text)\n",
    "\n",
    "    # remove stopwords\n",
    "    tokens = nltk.word_tokenize(text)\n",
    "    tokens = [w for w in tokens if not w.lower() in stopwords.words(\"english\")]\n",
    "    text = \" \".join(tokens)\n",
    "    text = text.lower().strip()\n",
    "\n",
    "    return text"
   ]
  },
  {
   "cell_type": "code",
   "execution_count": 48,
   "metadata": {},
   "outputs": [
    {
     "data": {
      "text/plain": [
       "'violence escalates mexico protests violence ongoing protests disappearance apparent murder college students mexico public safety mexican state guerrero temporarily detained protesters cbs cbsn phone kidnapping happened latest'"
      ]
     },
     "execution_count": 48,
     "metadata": {},
     "output_type": "execute_result"
    }
   ],
   "source": [
    "preprocess_text(sample_data.iloc[i]['text_joined'])"
   ]
  },
  {
   "cell_type": "code",
   "execution_count": 50,
   "metadata": {},
   "outputs": [],
   "source": [
    "sample_data['text_cleaned'] = sample_data['text_joined'].apply(lambda text: preprocess_text(text))\n",
    "sample_data = sample_data[sample_data['text_cleaned'] != '']"
   ]
  },
  {
   "cell_type": "code",
   "execution_count": 52,
   "metadata": {},
   "outputs": [
    {
     "data": {
      "text/html": [
       "<div>\n",
       "<style scoped>\n",
       "    .dataframe tbody tr th:only-of-type {\n",
       "        vertical-align: middle;\n",
       "    }\n",
       "\n",
       "    .dataframe tbody tr th {\n",
       "        vertical-align: top;\n",
       "    }\n",
       "\n",
       "    .dataframe thead th {\n",
       "        text-align: right;\n",
       "    }\n",
       "</style>\n",
       "<table border=\"1\" class=\"dataframe\">\n",
       "  <thead>\n",
       "    <tr style=\"text-align: right;\">\n",
       "      <th></th>\n",
       "      <th>title</th>\n",
       "      <th>content</th>\n",
       "      <th>text_joined</th>\n",
       "      <th>text_cleaned</th>\n",
       "    </tr>\n",
       "  </thead>\n",
       "  <tbody>\n",
       "    <tr>\n",
       "      <th>0</th>\n",
       "      <td>Violence escalates in Mexico  Protests</td>\n",
       "      <td>There 's more violence in the ongoing protests...</td>\n",
       "      <td>Violence escalates in Mexico  Protests\\n There...</td>\n",
       "      <td>violence escalates mexico protests violence on...</td>\n",
       "    </tr>\n",
       "    <tr>\n",
       "      <th>1</th>\n",
       "      <td>Olympics: Italy and Jamaica take sprint relay ...</td>\n",
       "      <td>The Olympics have always been a chance for nat...</td>\n",
       "      <td>Olympics: Italy and Jamaica take sprint relay ...</td>\n",
       "      <td>olympics italy jamaica take sprint relay golds...</td>\n",
       "    </tr>\n",
       "    <tr>\n",
       "      <th>2</th>\n",
       "      <td>Facebook Blacklists 78,000+ Users for Violatin...</td>\n",
       "      <td>Facebook has reportedly blacklisted more than ...</td>\n",
       "      <td>Facebook Blacklists 78,000+ Users for Violatin...</td>\n",
       "      <td>facebook blacklists users violating qanon poli...</td>\n",
       "    </tr>\n",
       "    <tr>\n",
       "      <th>3</th>\n",
       "      <td>Exclusive: Blackburn Demands Answers on Biden'...</td>\n",
       "      <td>Sen. Marsha Blackburn ( R-TN ) and Rep. Chuck ...</td>\n",
       "      <td>Exclusive: Blackburn Demands Answers on Biden'...</td>\n",
       "      <td>exclusive blackburn demands answers biden flyi...</td>\n",
       "    </tr>\n",
       "    <tr>\n",
       "      <th>4</th>\n",
       "      <td>14-year-old boy shot in West Pullman home</td>\n",
       "      <td>A 14-year-old boy was shot in his home early T...</td>\n",
       "      <td>14-year-old boy shot in West Pullman home\\n A ...</td>\n",
       "      <td>year old boy shot west pullman home year old b...</td>\n",
       "    </tr>\n",
       "    <tr>\n",
       "      <th>...</th>\n",
       "      <td>...</td>\n",
       "      <td>...</td>\n",
       "      <td>...</td>\n",
       "      <td>...</td>\n",
       "    </tr>\n",
       "    <tr>\n",
       "      <th>8975</th>\n",
       "      <td>Poll: 56 Percent of GOP Voters Oppose Earmarks</td>\n",
       "      <td>According to Morning Consult/Politico poll , m...</td>\n",
       "      <td>Poll: 56 Percent of GOP Voters Oppose Earmarks...</td>\n",
       "      <td>poll percent gop voters oppose earmarks accord...</td>\n",
       "    </tr>\n",
       "    <tr>\n",
       "      <th>8976</th>\n",
       "      <td>Chicago Fire Department needs stronger policie...</td>\n",
       "      <td>“ Women are treated like garbage .\\nPeriod , ”...</td>\n",
       "      <td>Chicago Fire Department needs stronger policie...</td>\n",
       "      <td>chicago fire department needs stronger policie...</td>\n",
       "    </tr>\n",
       "    <tr>\n",
       "      <th>8977</th>\n",
       "      <td>South Africa’s unrest and the ANC’s many failings</td>\n",
       "      <td>The ANC has failed to dismantle the oppressive...</td>\n",
       "      <td>South Africa’s unrest and the ANC’s many faili...</td>\n",
       "      <td>south africa unrest anc many failings anc fail...</td>\n",
       "    </tr>\n",
       "    <tr>\n",
       "      <th>8978</th>\n",
       "      <td>'I didn't like it at all' - Rangnick unhappy d...</td>\n",
       "      <td>Last updated on .From the section Premier Leag...</td>\n",
       "      <td>'I didn't like it at all' - Rangnick unhappy d...</td>\n",
       "      <td>like rangnick unhappy despite cavani earning p...</td>\n",
       "    </tr>\n",
       "    <tr>\n",
       "      <th>8979</th>\n",
       "      <td>British strain of Covid-19 may be more deadly,...</td>\n",
       "      <td>There is some evidence the new variant of Covi...</td>\n",
       "      <td>British strain of Covid-19 may be more deadly,...</td>\n",
       "      <td>british strain covid may deadly says uk govern...</td>\n",
       "    </tr>\n",
       "  </tbody>\n",
       "</table>\n",
       "<p>8980 rows × 4 columns</p>\n",
       "</div>"
      ],
      "text/plain": [
       "                                                  title  \\\n",
       "0                Violence escalates in Mexico  Protests   \n",
       "1     Olympics: Italy and Jamaica take sprint relay ...   \n",
       "2     Facebook Blacklists 78,000+ Users for Violatin...   \n",
       "3     Exclusive: Blackburn Demands Answers on Biden'...   \n",
       "4             14-year-old boy shot in West Pullman home   \n",
       "...                                                 ...   \n",
       "8975     Poll: 56 Percent of GOP Voters Oppose Earmarks   \n",
       "8976  Chicago Fire Department needs stronger policie...   \n",
       "8977  South Africa’s unrest and the ANC’s many failings   \n",
       "8978  'I didn't like it at all' - Rangnick unhappy d...   \n",
       "8979  British strain of Covid-19 may be more deadly,...   \n",
       "\n",
       "                                                content  \\\n",
       "0     There 's more violence in the ongoing protests...   \n",
       "1     The Olympics have always been a chance for nat...   \n",
       "2     Facebook has reportedly blacklisted more than ...   \n",
       "3     Sen. Marsha Blackburn ( R-TN ) and Rep. Chuck ...   \n",
       "4     A 14-year-old boy was shot in his home early T...   \n",
       "...                                                 ...   \n",
       "8975  According to Morning Consult/Politico poll , m...   \n",
       "8976  “ Women are treated like garbage .\\nPeriod , ”...   \n",
       "8977  The ANC has failed to dismantle the oppressive...   \n",
       "8978  Last updated on .From the section Premier Leag...   \n",
       "8979  There is some evidence the new variant of Covi...   \n",
       "\n",
       "                                            text_joined  \\\n",
       "0     Violence escalates in Mexico  Protests\\n There...   \n",
       "1     Olympics: Italy and Jamaica take sprint relay ...   \n",
       "2     Facebook Blacklists 78,000+ Users for Violatin...   \n",
       "3     Exclusive: Blackburn Demands Answers on Biden'...   \n",
       "4     14-year-old boy shot in West Pullman home\\n A ...   \n",
       "...                                                 ...   \n",
       "8975  Poll: 56 Percent of GOP Voters Oppose Earmarks...   \n",
       "8976  Chicago Fire Department needs stronger policie...   \n",
       "8977  South Africa’s unrest and the ANC’s many faili...   \n",
       "8978  'I didn't like it at all' - Rangnick unhappy d...   \n",
       "8979  British strain of Covid-19 may be more deadly,...   \n",
       "\n",
       "                                           text_cleaned  \n",
       "0     violence escalates mexico protests violence on...  \n",
       "1     olympics italy jamaica take sprint relay golds...  \n",
       "2     facebook blacklists users violating qanon poli...  \n",
       "3     exclusive blackburn demands answers biden flyi...  \n",
       "4     year old boy shot west pullman home year old b...  \n",
       "...                                                 ...  \n",
       "8975  poll percent gop voters oppose earmarks accord...  \n",
       "8976  chicago fire department needs stronger policie...  \n",
       "8977  south africa unrest anc many failings anc fail...  \n",
       "8978  like rangnick unhappy despite cavani earning p...  \n",
       "8979  british strain covid may deadly says uk govern...  \n",
       "\n",
       "[8980 rows x 4 columns]"
      ]
     },
     "execution_count": 52,
     "metadata": {},
     "output_type": "execute_result"
    }
   ],
   "source": [
    "sample_data = sample_data.reset_index(drop=True)\n",
    "sample_data"
   ]
  },
  {
   "cell_type": "code",
   "execution_count": 53,
   "metadata": {},
   "outputs": [],
   "source": [
    "clean_path = '../data/sample/clean_sample_data.csv'\n",
    "sample_data.to_csv(clean_path, sep= '\\t', index=False)"
   ]
  },
  {
   "cell_type": "code",
   "execution_count": 54,
   "metadata": {},
   "outputs": [
    {
     "data": {
      "text/html": [
       "<div>\n",
       "<style scoped>\n",
       "    .dataframe tbody tr th:only-of-type {\n",
       "        vertical-align: middle;\n",
       "    }\n",
       "\n",
       "    .dataframe tbody tr th {\n",
       "        vertical-align: top;\n",
       "    }\n",
       "\n",
       "    .dataframe thead th {\n",
       "        text-align: right;\n",
       "    }\n",
       "</style>\n",
       "<table border=\"1\" class=\"dataframe\">\n",
       "  <thead>\n",
       "    <tr style=\"text-align: right;\">\n",
       "      <th></th>\n",
       "      <th>title</th>\n",
       "      <th>content</th>\n",
       "      <th>text_joined</th>\n",
       "      <th>text_cleaned</th>\n",
       "    </tr>\n",
       "  </thead>\n",
       "  <tbody>\n",
       "    <tr>\n",
       "      <th>0</th>\n",
       "      <td>Violence escalates in Mexico  Protests</td>\n",
       "      <td>There 's more violence in the ongoing protests...</td>\n",
       "      <td>Violence escalates in Mexico  Protests\\n There...</td>\n",
       "      <td>violence escalates mexico protests violence on...</td>\n",
       "    </tr>\n",
       "    <tr>\n",
       "      <th>1</th>\n",
       "      <td>Olympics: Italy and Jamaica take sprint relay ...</td>\n",
       "      <td>The Olympics have always been a chance for nat...</td>\n",
       "      <td>Olympics: Italy and Jamaica take sprint relay ...</td>\n",
       "      <td>olympics italy jamaica take sprint relay golds...</td>\n",
       "    </tr>\n",
       "    <tr>\n",
       "      <th>2</th>\n",
       "      <td>Facebook Blacklists 78,000+ Users for Violatin...</td>\n",
       "      <td>Facebook has reportedly blacklisted more than ...</td>\n",
       "      <td>Facebook Blacklists 78,000+ Users for Violatin...</td>\n",
       "      <td>facebook blacklists users violating qanon poli...</td>\n",
       "    </tr>\n",
       "    <tr>\n",
       "      <th>3</th>\n",
       "      <td>Exclusive: Blackburn Demands Answers on Biden'...</td>\n",
       "      <td>Sen. Marsha Blackburn ( R-TN ) and Rep. Chuck ...</td>\n",
       "      <td>Exclusive: Blackburn Demands Answers on Biden'...</td>\n",
       "      <td>exclusive blackburn demands answers biden flyi...</td>\n",
       "    </tr>\n",
       "    <tr>\n",
       "      <th>4</th>\n",
       "      <td>14-year-old boy shot in West Pullman home</td>\n",
       "      <td>A 14-year-old boy was shot in his home early T...</td>\n",
       "      <td>14-year-old boy shot in West Pullman home\\n A ...</td>\n",
       "      <td>year old boy shot west pullman home year old b...</td>\n",
       "    </tr>\n",
       "    <tr>\n",
       "      <th>...</th>\n",
       "      <td>...</td>\n",
       "      <td>...</td>\n",
       "      <td>...</td>\n",
       "      <td>...</td>\n",
       "    </tr>\n",
       "    <tr>\n",
       "      <th>8975</th>\n",
       "      <td>Poll: 56 Percent of GOP Voters Oppose Earmarks</td>\n",
       "      <td>According to Morning Consult/Politico poll , m...</td>\n",
       "      <td>Poll: 56 Percent of GOP Voters Oppose Earmarks...</td>\n",
       "      <td>poll percent gop voters oppose earmarks accord...</td>\n",
       "    </tr>\n",
       "    <tr>\n",
       "      <th>8976</th>\n",
       "      <td>Chicago Fire Department needs stronger policie...</td>\n",
       "      <td>“ Women are treated like garbage .\\nPeriod , ”...</td>\n",
       "      <td>Chicago Fire Department needs stronger policie...</td>\n",
       "      <td>chicago fire department needs stronger policie...</td>\n",
       "    </tr>\n",
       "    <tr>\n",
       "      <th>8977</th>\n",
       "      <td>South Africa’s unrest and the ANC’s many failings</td>\n",
       "      <td>The ANC has failed to dismantle the oppressive...</td>\n",
       "      <td>South Africa’s unrest and the ANC’s many faili...</td>\n",
       "      <td>south africa unrest anc many failings anc fail...</td>\n",
       "    </tr>\n",
       "    <tr>\n",
       "      <th>8978</th>\n",
       "      <td>'I didn't like it at all' - Rangnick unhappy d...</td>\n",
       "      <td>Last updated on .From the section Premier Leag...</td>\n",
       "      <td>'I didn't like it at all' - Rangnick unhappy d...</td>\n",
       "      <td>like rangnick unhappy despite cavani earning p...</td>\n",
       "    </tr>\n",
       "    <tr>\n",
       "      <th>8979</th>\n",
       "      <td>British strain of Covid-19 may be more deadly,...</td>\n",
       "      <td>There is some evidence the new variant of Covi...</td>\n",
       "      <td>British strain of Covid-19 may be more deadly,...</td>\n",
       "      <td>british strain covid may deadly says uk govern...</td>\n",
       "    </tr>\n",
       "  </tbody>\n",
       "</table>\n",
       "<p>8980 rows × 4 columns</p>\n",
       "</div>"
      ],
      "text/plain": [
       "                                                  title  \\\n",
       "0                Violence escalates in Mexico  Protests   \n",
       "1     Olympics: Italy and Jamaica take sprint relay ...   \n",
       "2     Facebook Blacklists 78,000+ Users for Violatin...   \n",
       "3     Exclusive: Blackburn Demands Answers on Biden'...   \n",
       "4             14-year-old boy shot in West Pullman home   \n",
       "...                                                 ...   \n",
       "8975     Poll: 56 Percent of GOP Voters Oppose Earmarks   \n",
       "8976  Chicago Fire Department needs stronger policie...   \n",
       "8977  South Africa’s unrest and the ANC’s many failings   \n",
       "8978  'I didn't like it at all' - Rangnick unhappy d...   \n",
       "8979  British strain of Covid-19 may be more deadly,...   \n",
       "\n",
       "                                                content  \\\n",
       "0     There 's more violence in the ongoing protests...   \n",
       "1     The Olympics have always been a chance for nat...   \n",
       "2     Facebook has reportedly blacklisted more than ...   \n",
       "3     Sen. Marsha Blackburn ( R-TN ) and Rep. Chuck ...   \n",
       "4     A 14-year-old boy was shot in his home early T...   \n",
       "...                                                 ...   \n",
       "8975  According to Morning Consult/Politico poll , m...   \n",
       "8976  “ Women are treated like garbage .\\nPeriod , ”...   \n",
       "8977  The ANC has failed to dismantle the oppressive...   \n",
       "8978  Last updated on .From the section Premier Leag...   \n",
       "8979  There is some evidence the new variant of Covi...   \n",
       "\n",
       "                                            text_joined  \\\n",
       "0     Violence escalates in Mexico  Protests\\n There...   \n",
       "1     Olympics: Italy and Jamaica take sprint relay ...   \n",
       "2     Facebook Blacklists 78,000+ Users for Violatin...   \n",
       "3     Exclusive: Blackburn Demands Answers on Biden'...   \n",
       "4     14-year-old boy shot in West Pullman home\\n A ...   \n",
       "...                                                 ...   \n",
       "8975  Poll: 56 Percent of GOP Voters Oppose Earmarks...   \n",
       "8976  Chicago Fire Department needs stronger policie...   \n",
       "8977  South Africa’s unrest and the ANC’s many faili...   \n",
       "8978  'I didn't like it at all' - Rangnick unhappy d...   \n",
       "8979  British strain of Covid-19 may be more deadly,...   \n",
       "\n",
       "                                           text_cleaned  \n",
       "0     violence escalates mexico protests violence on...  \n",
       "1     olympics italy jamaica take sprint relay golds...  \n",
       "2     facebook blacklists users violating qanon poli...  \n",
       "3     exclusive blackburn demands answers biden flyi...  \n",
       "4     year old boy shot west pullman home year old b...  \n",
       "...                                                 ...  \n",
       "8975  poll percent gop voters oppose earmarks accord...  \n",
       "8976  chicago fire department needs stronger policie...  \n",
       "8977  south africa unrest anc many failings anc fail...  \n",
       "8978  like rangnick unhappy despite cavani earning p...  \n",
       "8979  british strain covid may deadly says uk govern...  \n",
       "\n",
       "[8980 rows x 4 columns]"
      ]
     },
     "execution_count": 54,
     "metadata": {},
     "output_type": "execute_result"
    }
   ],
   "source": [
    "clean_path = '../data/sample/clean_sample_data.csv'\n",
    "sample_data = pd.read_csv(clean_path, sep= '\\t')\n",
    "sample_data"
   ]
  },
  {
   "cell_type": "markdown",
   "metadata": {},
   "source": [
    "## tf-idf"
   ]
  },
  {
   "cell_type": "code",
   "execution_count": 58,
   "metadata": {},
   "outputs": [
    {
     "data": {
      "text/plain": [
       "(8980, 19643)"
      ]
     },
     "execution_count": 58,
     "metadata": {},
     "output_type": "execute_result"
    }
   ],
   "source": [
    "from sklearn.feature_extraction.text import TfidfVectorizer\n",
    "\n",
    "vectorizer = TfidfVectorizer(sublinear_tf=True, min_df=5, max_df=0.95)\n",
    "X_tfidf = vectorizer.fit_transform(sample_data['text_cleaned']).toarray()\n",
    ".shape"
   ]
  },
  {
   "cell_type": "code",
   "execution_count": 115,
   "metadata": {},
   "outputs": [],
   "source": [
    "with open('../data/sample/vectorizers/X_tfidf.pkl', 'wb') as f:\n",
    "    pickle.dump(X_tfidf, f)"
   ]
  },
  {
   "cell_type": "markdown",
   "metadata": {},
   "source": [
    "## Sentence transformers"
   ]
  },
  {
   "cell_type": "code",
   "execution_count": 59,
   "metadata": {},
   "outputs": [
    {
     "name": "stderr",
     "output_type": "stream",
     "text": [
      "c:\\Users\\jlrodriguez.andreu\\AppData\\Local\\miniconda3\\envs\\unsup-classif-venv\\Lib\\site-packages\\tqdm\\auto.py:21: TqdmWarning: IProgress not found. Please update jupyter and ipywidgets. See https://ipywidgets.readthedocs.io/en/stable/user_install.html\n",
      "  from .autonotebook import tqdm as notebook_tqdm\n",
      ".gitattributes: 100%|██████████| 690/690 [00:00<00:00, 778kB/s]\n",
      "1_Pooling/config.json: 100%|██████████| 190/190 [00:00<?, ?B/s] \n",
      "README.md: 100%|██████████| 3.69k/3.69k [00:00<00:00, 3.69MB/s]\n",
      "config.json: 100%|██████████| 629/629 [00:00<?, ?B/s] \n",
      "config_sentence_transformers.json: 100%|██████████| 122/122 [00:00<00:00, 120kB/s]\n",
      "pytorch_model.bin: 100%|██████████| 90.9M/90.9M [00:01<00:00, 63.3MB/s]\n",
      "sentence_bert_config.json: 100%|██████████| 53.0/53.0 [00:00<?, ?B/s]\n",
      "special_tokens_map.json: 100%|██████████| 112/112 [00:00<?, ?B/s] \n",
      "tokenizer.json: 100%|██████████| 466k/466k [00:00<00:00, 2.35MB/s]\n",
      "tokenizer_config.json: 100%|██████████| 314/314 [00:00<?, ?B/s] \n",
      "vocab.txt: 100%|██████████| 232k/232k [00:00<00:00, 116MB/s]\n",
      "modules.json: 100%|██████████| 229/229 [00:00<?, ?B/s] \n"
     ]
    }
   ],
   "source": [
    "from sentence_transformers import SentenceTransformer\n",
    "model = SentenceTransformer('paraphrase-MiniLM-L6-v2')"
   ]
  },
  {
   "cell_type": "code",
   "execution_count": 60,
   "metadata": {},
   "outputs": [],
   "source": [
    "encode_transforemers = sample_data['text_cleaned'].apply(\n",
    "    lambda text: model.encode(text, convert_to_numpy=True).flatten()\n",
    ")"
   ]
  },
  {
   "cell_type": "code",
   "execution_count": 62,
   "metadata": {},
   "outputs": [
    {
     "data": {
      "text/plain": [
       "(8980, 384)"
      ]
     },
     "execution_count": 62,
     "metadata": {},
     "output_type": "execute_result"
    }
   ],
   "source": [
    "X_transformers = np.vstack(encode_transforemers)\n",
    "X_transformers.shape"
   ]
  },
  {
   "cell_type": "code",
   "execution_count": 116,
   "metadata": {},
   "outputs": [],
   "source": [
    "with open('../data/sample/vectorizers/X_transformers.pkl', 'wb') as f:\n",
    "    pickle.dump(X_transformers, f)"
   ]
  },
  {
   "cell_type": "markdown",
   "metadata": {},
   "source": [
    "## Bert\n",
    "\n"
   ]
  },
  {
   "cell_type": "code",
   "execution_count": 64,
   "metadata": {},
   "outputs": [],
   "source": [
    "from transformers import BertModel, BertTokenizer\n",
    "import torch\n",
    "\n",
    "tokenizer = BertTokenizer.from_pretrained('bert-base-uncased')\n",
    "model = BertModel.from_pretrained('bert-base-uncased')\n",
    "\n",
    "def get_cls_sentence(sentence):\n",
    "    # Tokenize input sentence and convert to tensor\n",
    "    input_ids = torch.tensor([tokenizer.encode(sentence, add_special_tokens=True, max_length=512)])\n",
    "\n",
    "    # Pass input through BERT model and extract embeddings for [CLS] token\n",
    "    with torch.no_grad():\n",
    "        outputs = model(input_ids)\n",
    "        cls_embedding = outputs[0][:, 0, :]\n",
    "    \n",
    "    return cls_embedding.flatten()"
   ]
  },
  {
   "cell_type": "code",
   "execution_count": 65,
   "metadata": {},
   "outputs": [
    {
     "name": "stderr",
     "output_type": "stream",
     "text": [
      "Truncation was not explicitly activated but `max_length` is provided a specific value, please use `truncation=True` to explicitly truncate examples to max length. Defaulting to 'longest_first' truncation strategy. If you encode pairs of sequences (GLUE-style) with the tokenizer you can select this strategy more precisely by providing a specific strategy to `truncation`.\n"
     ]
    },
    {
     "data": {
      "text/plain": [
       "(8980, 768)"
      ]
     },
     "execution_count": 65,
     "metadata": {},
     "output_type": "execute_result"
    }
   ],
   "source": [
    "cls_bert = sample_data['text_cleaned'].apply(lambda sentence: get_cls_sentence(sentence))\n",
    "X_cls_bert = np.vstack(cls_bert)\n",
    "X_cls_bert.shape"
   ]
  },
  {
   "cell_type": "code",
   "execution_count": 117,
   "metadata": {},
   "outputs": [],
   "source": [
    "with open('../data/sample/vectorizers/X_cls_bert.pkl', 'wb') as f:\n",
    "    pickle.dump(X_cls_bert, f)"
   ]
  },
  {
   "cell_type": "markdown",
   "metadata": {},
   "source": [
    "## Doc2Vec"
   ]
  },
  {
   "cell_type": "code",
   "execution_count": 72,
   "metadata": {},
   "outputs": [],
   "source": [
    "from gensim.models.doc2vec import Doc2Vec, TaggedDocument\n",
    "from nltk.tokenize import word_tokenize"
   ]
  },
  {
   "cell_type": "code",
   "execution_count": 104,
   "metadata": {},
   "outputs": [],
   "source": [
    "index = iter(range(len(sample_data['text_cleaned'])))\n",
    "tagged_data = sample_data['text_cleaned'].apply(\n",
    "    lambda text: TaggedDocument(words=word_tokenize(text), tags=[next(index)])\n",
    ")"
   ]
  },
  {
   "cell_type": "code",
   "execution_count": 105,
   "metadata": {},
   "outputs": [],
   "source": [
    "model = Doc2Vec(vector_size=100,\n",
    "                min_count=2, epochs=50)\n",
    "model.build_vocab(tagged_data)\n",
    "model.train(tagged_data,\n",
    "            total_examples=model.corpus_count,\n",
    "            epochs=model.epochs)"
   ]
  },
  {
   "cell_type": "code",
   "execution_count": 106,
   "metadata": {},
   "outputs": [],
   "source": [
    "# get the document vectors\n",
    "document_vectors = sample_data['text_cleaned'].apply(\n",
    "    lambda text: model.infer_vector(word_tokenize(text))\n",
    ")\n"
   ]
  },
  {
   "cell_type": "code",
   "execution_count": 107,
   "metadata": {},
   "outputs": [
    {
     "data": {
      "text/plain": [
       "(8980, 100)"
      ]
     },
     "execution_count": 107,
     "metadata": {},
     "output_type": "execute_result"
    }
   ],
   "source": [
    "X_d2v = np.vstack(document_vectors)\n",
    "X_d2v.shape"
   ]
  },
  {
   "cell_type": "code",
   "execution_count": 118,
   "metadata": {},
   "outputs": [],
   "source": [
    "with open('../data/sample/vectorizers/X_d2v.pkl', 'wb') as f:\n",
    "    pickle.dump(X_d2v, f)"
   ]
  },
  {
   "cell_type": "code",
   "execution_count": null,
   "metadata": {},
   "outputs": [],
   "source": []
  },
  {
   "cell_type": "code",
   "execution_count": null,
   "metadata": {},
   "outputs": [],
   "source": []
  },
  {
   "cell_type": "code",
   "execution_count": null,
   "metadata": {},
   "outputs": [],
   "source": []
  },
  {
   "cell_type": "code",
   "execution_count": 20,
   "metadata": {},
   "outputs": [
    {
     "name": "stdout",
     "output_type": "stream",
     "text": [
      "'Nothing but problems': Shipwreck tear-down enters 5th month\n",
      "\n",
      "Demolition of a large cargo ship along the coast of Georgia is entering its fifth month , with work to chop the ship into eight large pieces going far slower than the salvage crew anticipated SAVANNAH , Ga. -- When salvage crews began cutting apart the capsized Golden Ray , a shipwreck the size of a 70-story office building with 4,200 cars within its cargo decks , in early November they predicted the demolition could be wrapped up by New Year 's Day .\n",
      "Four months later , the job remains far from finished .\n",
      "Both ends of the cargo @ @ @ @ @ @ @ off by barges in a pair of giant chunks .\n",
      "But roughly three-fourths of the vessel remains beached on its side off St. Simons Island on the Georgia coast , where the South Korean freighter overturned soon after leaving port Sept. 8 , 2019 .\n",
      "“ It ’ s been nothing but problems out here , ” said Andy Jones , a St. Simons Island resident who heads to the wreck site in his small fishing boat most days to monitor the demolition and post updates to a YouTube channel .\n",
      "“ It @ @ @ @ @ @ @ Salvage experts decided more than a year ago that the Golden Ray , measuring 656 feet ( 199 meters ) long , was too big to remove intact .\n",
      "They settled on a plan to carve the ship into eight massive chunks , each weighing up to 4,100 tons ( 3,720 metric tonnes ) .\n",
      "They straddled the wreck with a towering crane with a winch and pulley system attached to 400 feet ( 122 meters ) of anchor chain that acts as a dull sawblade , tearing through the ship 's hull @ @ @ @ @ @ @ individual cut was supposed to take a single day .\n",
      "Taking into account time needed to load each severed ship section onto a barge and prepare for the next slice , the multiagency command overseeing the effort predicted the job would take eight weeks .\n",
      "It 's turned out to be a lot harder .\n",
      "The first cut began Nov. 6 and took three weeks .\n",
      "Lifting the ship 's bow section revealed battered cars and SUVs in neat , layered rows on the interior decks .\n",
      "The second cut started a month @ @ @ @ @ @ @ was finished in a week .\n",
      "Crews spent the entire month of February attempting a third cut through the ship 's engine room , a section fortified with thicker steel .\n",
      "After strain on the cutting apparatus forced extensive maintenance , the salvage crew stopped with the cut only about half finished .\n",
      "They spent days moving the crane to the other end of the ship , where they began cutting a new section May 7 while rethinking plans to complete the unfinished one .\n",
      "The ship 's steel has proven tougher than @ @ @ @ @ @ @ crews have taken pauses to perform extra inspections and maintenance , said Coast Guard Petty Officer 2nd Class Michael Himes , a spokesman for the multiagency command overseeing the demolition .\n",
      "“ If people are wondering when it is going to be done , we ’ re doing it as quickly and as safely as can be done , '' Himes said .\n",
      "`` But quick takes a back seat to safety.\n",
      "” He said it 's possible the last chunk of the ship could head to the scrapyard by June , the @ @ @ @ @ @ @ .\n",
      "Workers have taken steps to make the cutting more efficient , using torches to remove strips of the ship 's hull plating and form a guide for the cutting chain .\n",
      "They 're also using a big mechanical claw to pluck cars from inside the ship to shed weight before sections are cut and lifted .\n",
      "Conservationists worry the longer the shipwreck stays in St. Simons Sound , the greater pollution threat it poses to the area 's waterways , beaches and saltwater marshes .\n",
      "The wreck site is surrounded by a @ @ @ @ @ @ @ cleanup once the big sections get removed .\n",
      "Boats equipped with skimmers and absorbent booms stay on standby to mop up any leaking oil or other pollutants .\n",
      "Still , bumpers , tires and other car parts falling from the ship have been found on beaches .\n",
      "Birds have been found coated in oil .\n",
      "And though most fuel has been drained from the ship 's tanks , there 's concern that an estimated 44,000 gallons ( 166,500 liters ) remaining could come gushing out once the cutting chain severs the ship 's @ @ @ @ @ @ @ sits in the water , the ship or these cars , it breaks down , '' said Susan Inman , coastkeeper for the Altamaha Riverkeeper conservation group .\n",
      "“ You have lead paint on your ship .\n",
      "You have all these plastic pieces , hydraulic fluid .\n",
      "A lot of this stuff is just going to be around for years.\n",
      "” By the time demolition of the Golden Ray began in November , the project had already delayed for several months because of a busy hurricane season and handful of coronavirus infections among @ @ @ @ @ @ @ site commanders insisted on removing the ship in large chunks because it was supposed to be faster .\n",
      "A year ago , the command fired its original salvage contractor for wanting to dismantle the ship in smaller pieces , saying it would take too long .\n",
      "The jilted firm sued in federal court , but a judge refused to halt the salvage after agreeing there was no time to waste .\n",
      "Paul Hankins oversaw planning for a smaller-scale demolition of the Golden Ray until his employer , Donjon-SMIT , lost the job to @ @ @ @ @ @ @ the company .\n",
      "Had his team not been fired , Hankins said , the overturned ship would now be a memory in coastal Georgia .\n",
      "“ We would have been done , ” Hankins said .\n",
      "“ Here we are a year later , and they ’ re nowhere close .\n",
      "”\n"
     ]
    }
   ],
   "source": [
    "i = 1\n",
    "print(train_data.iloc[i]['title'])\n",
    "print(\"\")\n",
    "print(train_data.iloc[i]['content'])\n",
    "\n"
   ]
  },
  {
   "cell_type": "markdown",
   "metadata": {},
   "source": [
    "### 1. Extraccion de tema usando el api general de hugging face\n",
    "\n",
    "Necesitamos una lista de posibles labels, asique de momento no\n",
    "\n",
    "\n",
    "\n"
   ]
  },
  {
   "cell_type": "markdown",
   "metadata": {},
   "source": [
    "### 1. Extraccion de palabras clave\n",
    "\n",
    "https://huggingface.co/Voicelab/vlt5-base-keywords?text=Lawyer+who+took+on+tobacco+industry+now+turning+to+opioids+fight"
   ]
  },
  {
   "cell_type": "code",
   "execution_count": 61,
   "metadata": {},
   "outputs": [],
   "source": [
    "# Use a pipeline as a high-level helper\n",
    "from transformers import pipeline\n",
    "\n",
    "topic_model = pipeline(\"text2text-generation\", model=\"Voicelab/vlt5-base-keywords\")"
   ]
  },
  {
   "cell_type": "code",
   "execution_count": 64,
   "metadata": {},
   "outputs": [
    {
     "data": {
      "text/plain": [
       "['Singer, activist Joan Baez becomes Kennedy Center Honoree',\n",
       " \"'Nothing but problems': Shipwreck tear-down enters 5th month\",\n",
       " 'Report: At least 13 dead in Istanbul bombings',\n",
       " 'Senate Republicans Pressure Joe Biden to Withdraw Ecoterrorism-Linked Nominee',\n",
       " 'The Unwelcome Return of the Real Purveyors of Violence']"
      ]
     },
     "execution_count": 64,
     "metadata": {},
     "output_type": "execute_result"
    }
   ],
   "source": [
    "list(title)"
   ]
  },
  {
   "cell_type": "code",
   "execution_count": 65,
   "metadata": {},
   "outputs": [
    {
     "name": "stderr",
     "output_type": "stream",
     "text": [
      "c:\\Users\\jlrodriguez.andreu\\AppData\\Local\\miniconda3\\envs\\unsup-classif-venv\\Lib\\site-packages\\transformers\\generation\\utils.py:1355: UserWarning: Using the model-agnostic default `max_length` (=20) to control the generation length. We recommend setting `max_new_tokens` to control the maximum length of the generation.\n",
      "  warnings.warn(\n"
     ]
    },
    {
     "data": {
      "text/plain": [
       "[{'generated_text': 'John Baez, John Baez, John Baez, John Baez, John Baez'},\n",
       " {'generated_text': 'engineering, engineering, engineering, '},\n",
       " {'generated_text': 'Istanbul bombing, Istanbul bombing'},\n",
       " {'generated_text': 'Ecoterrorism, Ecoterrorism-Linked Nominee'},\n",
       " {'generated_text': 'Violence, Violence, Violence, Violence, Violence'}]"
      ]
     },
     "execution_count": 65,
     "metadata": {},
     "output_type": "execute_result"
    }
   ],
   "source": [
    "\n",
    "\n",
    "title = list(train_data.iloc[:5]['title'])\n",
    "# content = train_data.iloc[:5]['content']\n",
    "\n",
    "result_title = topic_model(title,max_length = 20)\n",
    "result_content = topic_model(content, max_length = 20)\n",
    "\n",
    "\n",
    "# print(i, title)\n",
    "# print('title: ', result_content)\n",
    "# print('content: ', result_content)\n",
    "\n",
    "result_title"
   ]
  },
  {
   "cell_type": "code",
   "execution_count": 74,
   "metadata": {},
   "outputs": [
    {
     "name": "stdout",
     "output_type": "stream",
     "text": [
      "Senate Republicans Pressure Joe Biden to Withdraw Ecoterrorism-Linked Nominee\n",
      "\n",
      "Several congressional Republicans are expressing their public opposition to President Joe Biden ’ s nominee to head the Bureau of Land Management ( BLM ) over her past ties to ecoterrorist activity .\n",
      "Sen. John Barrasso ( R-WY ) , who is ranking member of the Committee on Energy and Natural Resources , the committee that will vote on Tracy Stone-Manning ’ s nomination ahead of a full Senate vote , said he plans to object to the nomination .\n",
      "“ Tracy Stone-Manning collaborated with eco-terrorists who had booby trapped trees with metal spikes .\n",
      "… She did not cooperate @ @ @ @ @ @ @ ” Barrasso said in a statement .\n",
      "Sen. Jim Risch ( R-ID ) , another Energy Committee member , said she is “ unfit ” to lead the BLM and called on Biden to withdraw the nomination .\n",
      "In 1993 , Stone-Manning testified against two individuals in her “ circle of friends , ” one being John P. Blount who was sentenced to 17 months in prison for tree spiking .\n",
      "Former BLM Acting Director William Perry Pendley detailed in an op-ed with Breitbart News how Stone-Manning ’ s testimony came in exchange @ @ @ @ @ @ @ mailed a profane letter Blount had given her to the U.S. Forest Service warning of trees that had been spiked .\n",
      "Stone-Manning , who around the same timeframe was a member of the radical environmentalist group Earth First !\n",
      "— which engaged in ecoterrorism — had initially been subpoenaed in 1989 over the tree spiking case .\n",
      "Pendley wrote : Tree spiking is the act of installing metal spikes into trees , creating a dangerous or even deadly scenario for loggers should their saw come into contact with the spikes .\n",
      "Tree spiking @ @ @ @ @ @ @ is a federal crime .\n",
      "Pendley noted Stone-Manning also admitted to the Missoulian in 1993 that she could have been charged with conspiracy , just as others had been , if it were not for her immunity agreement .\n",
      "In a questionnaire for her Senate committee hearing , Stone-Manning claimed she was never the subject of a criminal investigation and that the tree spiking case to which she is linked was merely “ alleged ” tree spiking — despite the facts that she was a target in the 1989 grand jury investigation for @ @ @ @ @ @ @ a 1993 interview that she would have been charged with conspiracy in the tree spiking crime if it were not for her immunity agreement , and the crime did occur and the individuals she testified against were convicted for it .\n",
      "“ Tracy Stone-Manning lied to the Senate Energy and Natural Resources Committee by claiming the tree spiking was ‘ alleged ’ and that she was never investigated , ” Barrasso asserted .\n",
      "“ Now , we have confirmation that neither of those things are true .\n",
      "President Biden must withdraw her nomination.\n",
      "@ @ @ @ @ @ @ , a massive portion of which is in Alaska .\n",
      "Sen. Dan Sullivan ( R-AK ) voiced his opposition to Stone-Manning in a lengthy statement last week as he emphasized the magnitude of the bureau ’ s influence over his state .\n",
      "Sullivan called her nomination “ shocking , ” and the state ’ s senior senator , Sen. Lisa Murkowski ( R-AK ) — who is often a key swing vote for Republicans — said she too intends to vote against Stone-Manning .\n",
      "Murkowski , being a member of the Energy Committee @ @ @ @ @ @ @ found responses to “ Alaska specific issues ” she asked during Stone-Manning ’ s committee hearing to be “ unsatisfactory and evasive.\n",
      "” A major Idaho logging group representing more than 500 businesses also released a letter this week , obtained by the Federalist , calling for the Senate to reject Stone-Manning .\n",
      "Several senators from states that are logging industry hotbeds , such as Georgia , Washington , Oregon , and Maine , have not publicly indicated their positions , nor have moderate Democrat Sens .\n",
      "Joe Manchin ( WV ) and @ @ @ @ @ @ @ all 50 Senate Republicans vote against Stone-Manning , just one Democrat breaking with the party would sink her nomination in the upper chamber , which is split 50–50 .\n",
      "On Monday , 15 House Republicans wrote a letter to Manchin , who along with often toeing party lines also happens to be the Energy Committee chair , urging him to oppose Stone-Manning over the tree spiking plot and her “ overtly partisan past.\n",
      "” Bob Abbey , former President Barack Obama ’ s first BLM director , told E & E News he @ @ @ @ @ @ @ “ should disqualify her.\n",
      "” “ BLM needs a really strong leader , ” Abbey said .\n",
      "“ To put someone in that position that has this type of resume will just bring needless controversy that is not good for the agency or for the public lands.\n",
      "” The Biden administration , for its part , has stood by the nomination despite the numerous calls for her to withdraw .\n",
      "An administration source told Fox News , “ She has always been honest and transparent about this matter , which has been covered @ @ @ @ @ @ @ ultimately testified against the responsible individual , who was convicted .\n",
      "”\n"
     ]
    }
   ],
   "source": [
    "i = 3\n",
    "title = train_data.iloc[i]['title']\n",
    "content = train_data.iloc[i]['content']\n",
    "print(title)\n",
    "print(\"\")\n",
    "print(content)"
   ]
  },
  {
   "cell_type": "code",
   "execution_count": 44,
   "metadata": {},
   "outputs": [
    {
     "data": {
      "text/plain": [
       "['Imran Ahmad Khan',\n",
       " ' Imran Ahmad Khan',\n",
       " ' Imran Ahmad Khan',\n",
       " ' Imran Ahmad Khan']"
      ]
     },
     "execution_count": 44,
     "metadata": {},
     "output_type": "execute_result"
    }
   ],
   "source": [
    "result = topic_model(title, max_length = 20)\n",
    "result = result[0]['generated_text'].split(',')\n",
    "result"
   ]
  },
  {
   "cell_type": "code",
   "execution_count": 19,
   "metadata": {},
   "outputs": [
    {
     "data": {
      "text/plain": [
       "{'generated_text': 'HuggingFace, HuggingFace, HuggingFa'}"
      ]
     },
     "execution_count": 19,
     "metadata": {},
     "output_type": "execute_result"
    }
   ],
   "source": [
    "result[0]"
   ]
  },
  {
   "cell_type": "code",
   "execution_count": 68,
   "metadata": {},
   "outputs": [],
   "source": [
    "# otra prueba\n",
    "\n",
    "# Use a pipeline as a high-level helper\n",
    "\n",
    "\n",
    "topic_model = pipeline(\"token-classification\", model=\"ml6team/keyphrase-extraction-distilbert-kptimes\")"
   ]
  },
  {
   "cell_type": "code",
   "execution_count": 71,
   "metadata": {},
   "outputs": [],
   "source": [
    "from transformers import (\n",
    "    TokenClassificationPipeline,\n",
    "    AutoModelForTokenClassification,\n",
    "    AutoTokenizer,\n",
    ")\n",
    "from transformers.pipelines import AggregationStrategy\n",
    "import numpy as np\n",
    "\n",
    "# Define keyphrase extraction pipeline\n",
    "class KeyphraseExtractionPipeline(TokenClassificationPipeline):\n",
    "    def __init__(self, model, *args, **kwargs):\n",
    "        super().__init__(\n",
    "            model=AutoModelForTokenClassification.from_pretrained(model),\n",
    "            tokenizer=AutoTokenizer.from_pretrained(model),\n",
    "            *args,\n",
    "            **kwargs\n",
    "        )\n",
    "\n",
    "    def postprocess(self, all_outputs):\n",
    "        results = super().postprocess(\n",
    "            all_outputs=all_outputs,\n",
    "            aggregation_strategy=AggregationStrategy.FIRST,\n",
    "        )\n",
    "        return np.unique([result.get(\"word\").strip() for result in results])\n",
    "    \n",
    "\n",
    "model_name = \"ml6team/keyphrase-extraction-distilbert-kptimes\"\n",
    "extractor = KeyphraseExtractionPipeline(model=model_name)"
   ]
  },
  {
   "cell_type": "code",
   "execution_count": 73,
   "metadata": {},
   "outputs": [
    {
     "name": "stdout",
     "output_type": "stream",
     "text": [
      "0 Singer, activist Joan Baez becomes Kennedy Center Honoree\n",
      "title:  []\n",
      "content:  []\n",
      "1 'Nothing but problems': Shipwreck tear-down enters 5th month\n",
      "title:  ['demolition' 'salvage']\n",
      "content:  ['demolition' 'salvage']\n",
      "2 Report: At least 13 dead in Istanbul bombings\n",
      "title:  ['istanbul' 'turkey']\n",
      "content:  ['istanbul' 'turkey']\n",
      "3 Senate Republicans Pressure Joe Biden to Withdraw Ecoterrorism-Linked Nominee\n",
      "title:  []\n",
      "content:  []\n",
      "4 The Unwelcome Return of the Real Purveyors of Violence\n",
      "title:  []\n",
      "content:  []\n",
      "5 Imran Ahmad Khan: Wakefield MP charged with sex assault on boy\n",
      "title:  []\n",
      "content:  []\n",
      "6 Trump: Twitter, Facebook 'a Disgrace' -- 'They Have to Be Stopped'\n",
      "title:  ['donald trump' 'facebook' 'facebook.' 'social media' 'stuart']\n",
      "content:  ['donald trump' 'facebook' 'facebook.' 'social media' 'stuart']\n",
      "7 Australia March 4 Justice: Thousands march against sexual assault\n",
      "title:  []\n",
      "content:  []\n",
      "8 Lawyer who took on tobacco industry now turning to opioids fight\n",
      "title:  ['opioids']\n",
      "content:  ['opioids']\n",
      "9 Betsy DeVos to Congress: Don't forgive student loan debt\n",
      "title:  ['student loan']\n",
      "content:  ['student loan']\n"
     ]
    }
   ],
   "source": [
    "for i in range(10):\n",
    "\n",
    "    title = train_data.iloc[i]['title']\n",
    "    content = train_data.iloc[i]['content']\n",
    "\n",
    "    result_title = extractor(title)\n",
    "    result_content = extractor(content)\n",
    "\n",
    "    # result_title = [dic['word'] for dic in result_title]\n",
    "    # result_content = [dic['word'] for dic in result_content]\n",
    "    print(i, title)\n",
    "    print('title: ', result_content)\n",
    "    print('content: ', result_content)"
   ]
  },
  {
   "cell_type": "code",
   "execution_count": null,
   "metadata": {},
   "outputs": [],
   "source": []
  },
  {
   "cell_type": "code",
   "execution_count": null,
   "metadata": {},
   "outputs": [],
   "source": []
  },
  {
   "cell_type": "code",
   "execution_count": null,
   "metadata": {},
   "outputs": [],
   "source": []
  },
  {
   "cell_type": "code",
   "execution_count": null,
   "metadata": {},
   "outputs": [],
   "source": []
  },
  {
   "cell_type": "code",
   "execution_count": null,
   "metadata": {},
   "outputs": [],
   "source": []
  },
  {
   "cell_type": "code",
   "execution_count": null,
   "metadata": {},
   "outputs": [],
   "source": []
  },
  {
   "cell_type": "code",
   "execution_count": null,
   "metadata": {},
   "outputs": [],
   "source": []
  },
  {
   "cell_type": "code",
   "execution_count": null,
   "metadata": {},
   "outputs": [],
   "source": []
  },
  {
   "cell_type": "code",
   "execution_count": null,
   "metadata": {},
   "outputs": [],
   "source": []
  },
  {
   "cell_type": "code",
   "execution_count": null,
   "metadata": {},
   "outputs": [],
   "source": []
  },
  {
   "cell_type": "code",
   "execution_count": null,
   "metadata": {},
   "outputs": [],
   "source": []
  },
  {
   "cell_type": "code",
   "execution_count": null,
   "metadata": {},
   "outputs": [],
   "source": []
  }
 ],
 "metadata": {
  "kernelspec": {
   "display_name": ".env",
   "language": "python",
   "name": "python3"
  },
  "language_info": {
   "codemirror_mode": {
    "name": "ipython",
    "version": 3
   },
   "file_extension": ".py",
   "mimetype": "text/x-python",
   "name": "python",
   "nbconvert_exporter": "python",
   "pygments_lexer": "ipython3",
   "version": "3.11.7"
  }
 },
 "nbformat": 4,
 "nbformat_minor": 2
}
